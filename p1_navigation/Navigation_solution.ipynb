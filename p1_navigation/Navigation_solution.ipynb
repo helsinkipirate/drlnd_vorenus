{
 "cells": [
  {
   "cell_type": "markdown",
   "metadata": {},
   "source": [
    "# Navigation\n",
    "\n",
    "---\n",
    "\n",
    "In this notebook, you will learn how to use the Unity ML-Agents environment for the first project of the [Deep Reinforcement Learning Nanodegree](https://www.udacity.com/course/deep-reinforcement-learning-nanodegree--nd893).\n",
    "\n",
    "### 1. Start the Environment\n",
    "\n",
    "We begin by importing some necessary packages.  If the code cell below returns an error, please revisit the project instructions to double-check that you have installed [Unity ML-Agents](https://github.com/Unity-Technologies/ml-agents/blob/master/docs/Installation.md) and [NumPy](http://www.numpy.org/)."
   ]
  },
  {
   "cell_type": "code",
   "execution_count": 1,
   "metadata": {},
   "outputs": [],
   "source": [
    "from unityagents import UnityEnvironment\n",
    "import numpy as np\n",
    "import random\n",
    "import torch\n",
    "from collections import deque\n",
    "import matplotlib.pyplot as plt\n",
    ""
   ]
  },
  {
   "cell_type": "markdown",
   "metadata": {},
   "source": [
    "Next, we will start the environment!  **_Before running the code cell below_**, change the `file_name` parameter to match the location of the Unity environment that you downloaded.\n",
    "\n",
    "- **Mac**: `\"path/to/Banana.app\"`\n",
    "- **Windows** (x86): `\"path/to/Banana_Windows_x86/Banana.exe\"`\n",
    "- **Windows** (x86_64): `\"path/to/Banana_Windows_x86_64/Banana.exe\"`\n",
    "- **Linux** (x86): `\"path/to/Banana_Linux/Banana.x86\"`\n",
    "- **Linux** (x86_64): `\"path/to/Banana_Linux/Banana.x86_64\"`\n",
    "- **Linux** (x86, headless): `\"path/to/Banana_Linux_NoVis/Banana.x86\"`\n",
    "- **Linux** (x86_64, headless): `\"path/to/Banana_Linux_NoVis/Banana.x86_64\"`\n",
    "\n",
    "For instance, if you are using a Mac, then you downloaded `Banana.app`.  If this file is in the same folder as the notebook, then the line below should appear as follows:\n",
    "```\n",
    "env = UnityEnvironment(file_name=\"Banana.app\")\n",
    "```"
   ]
  },
  {
   "cell_type": "code",
   "execution_count": 2,
   "metadata": {},
   "outputs": [
    {
     "output_type": "stream",
     "name": "stderr",
     "text": "INFO:unityagents:\n'Academy' started successfully!\nUnity Academy name: Academy\n        Number of Brains: 1\n        Number of External Brains : 1\n        Lesson number : 0\n        Reset Parameters :\n\t\t\nUnity brain name: BananaBrain\n        Number of Visual Observations (per agent): 0\n        Vector Observation space type: continuous\n        Vector Observation space size (per agent): 37\n        Number of stacked Vector Observation: 1\n        Vector Action space type: discrete\n        Vector Action space size (per agent): 4\n        Vector Action descriptions: , , , \n"
    }
   ],
   "source": [
    "env = UnityEnvironment(file_name=\"Banana_Windows_x86_64/Banana.exe\")"
   ]
  },
  {
   "cell_type": "markdown",
   "metadata": {},
   "source": [
    "Environments contain **_brains_** which are responsible for deciding the actions of their associated agents. Here we check for the first brain available, and set it as the default brain we will be controlling from Python."
   ]
  },
  {
   "cell_type": "code",
   "execution_count": 3,
   "metadata": {},
   "outputs": [],
   "source": [
    "# get the default brain\n",
    "brain_name = env.brain_names[0]\n",
    "brain = env.brains[brain_name]"
   ]
  },
  {
   "cell_type": "markdown",
   "metadata": {},
   "source": [
    "### 2. Examine the State and Action Spaces\n",
    "\n",
    "The simulation contains a single agent that navigates a large environment.  At each time step, it has four actions at its disposal:\n",
    "- `0` - walk forward \n",
    "- `1` - walk backward\n",
    "- `2` - turn left\n",
    "- `3` - turn right\n",
    "\n",
    "The state space has `37` dimensions and contains the agent's velocity, along with ray-based perception of objects around agent's forward direction.  A reward of `+1` is provided for collecting a yellow banana, and a reward of `-1` is provided for collecting a blue banana. \n",
    "\n",
    "Run the code cell below to print some information about the environment."
   ]
  },
  {
   "cell_type": "code",
   "execution_count": 4,
   "metadata": {},
   "outputs": [
    {
     "output_type": "stream",
     "name": "stdout",
     "text": "Number of agents: 1\nNumber of actions: 4\nStates look like: [1.         0.         0.         0.         0.84408134 0.\n 0.         1.         0.         0.0748472  0.         1.\n 0.         0.         0.25755    1.         0.         0.\n 0.         0.74177343 0.         1.         0.         0.\n 0.25854847 0.         0.         1.         0.         0.09355672\n 0.         1.         0.         0.         0.31969345 0.\n 0.        ]\nStates have length: 37\n"
    }
   ],
   "source": [
    "# reset the environment\n",
    "env_info = env.reset(train_mode=True)[brain_name]\n",
    "\n",
    "# number of agents in the environment\n",
    "print('Number of agents:', len(env_info.agents))\n",
    "\n",
    "# number of actions\n",
    "action_size = brain.vector_action_space_size\n",
    "print('Number of actions:', action_size)\n",
    "\n",
    "# examine the state space \n",
    "state = env_info.vector_observations[0]\n",
    "print('States look like:', state)\n",
    "state_size = len(state)\n",
    "print('States have length:', state_size)"
   ]
  },
  {
   "cell_type": "markdown",
   "metadata": {},
   "source": [
    "### 3. Take Random Actions in the Environment\n",
    "\n",
    "In the next code cell, you will learn how to use the Python API to control the agent and receive feedback from the environment.\n",
    "\n",
    "Once this cell is executed, you will watch the agent's performance, if it selects an action (uniformly) at random with each time step.  A window should pop up that allows you to observe the agent, as it moves through the environment.  \n",
    "\n",
    "Of course, as part of the project, you'll have to change the code so that the agent is able to use its experience to gradually choose better actions when interacting with the environment!"
   ]
  },
  {
   "cell_type": "code",
   "execution_count": 7,
   "metadata": {},
   "outputs": [
    {
     "output_type": "stream",
     "name": "stdout",
     "text": "Score: 0.0\n"
    }
   ],
   "source": [
    "env_info = env.reset(train_mode=False)[brain_name] # reset the environment\n",
    "state = env_info.vector_observations[0]            # get the current state\n",
    "score = 0                                          # initialize the score\n",
    "while True:\n",
    "    action = np.random.randint(action_size)        # select an action\n",
    "    env_info = env.step(action)[brain_name]        # send the action to the environment\n",
    "    next_state = env_info.vector_observations[0]   # get the next state\n",
    "    reward = env_info.rewards[0]                   # get the reward\n",
    "    done = env_info.local_done[0]                  # see if episode has finished\n",
    "    score += reward                                # update the score\n",
    "    state = next_state                             # roll over the state to next time step\n",
    "    if done:                                       # exit loop if episode finished\n",
    "        break\n",
    "    \n",
    "print(\"Score: {}\".format(score))"
   ]
  },
  {
   "cell_type": "markdown",
   "metadata": {},
   "source": [
    "When finished, you can close the environment."
   ]
  },
  {
   "cell_type": "code",
   "execution_count": 6,
   "metadata": {},
   "outputs": [],
   "source": [
    "#env.close()"
   ]
  },
  {
   "cell_type": "markdown",
   "metadata": {},
   "source": [
    "### 4. It's Your Turn!\n",
    "\n",
    "Now it's your turn to train your own agent to solve the environment!  When training the environment, set `train_mode=True`, so that the line for resetting the environment looks like the following:\n",
    "```python\n",
    "env_info = env.reset(train_mode=True)[brain_name]\n",
    "```"
   ]
  },
  {
   "cell_type": "code",
   "execution_count": 10,
   "metadata": {},
   "outputs": [
    {
     "output_type": "stream",
     "name": "stdout",
     "text": "[0.         1.         0.         0.         0.13150077 1.\n 0.         0.         0.         0.34672928 0.         0.\n 0.         1.         0.         0.         1.         0.\n 0.         0.16105865 0.         0.         1.         0.\n 0.05165716 0.         1.         0.         0.         0.27398276\n 1.         0.         0.         0.         0.10784899 0.\n 0.        ]\nEpisode 1\tAverage Score: -1.00[0.         0.         1.         0.         0.00815033 1.\n 0.         0.         0.         0.04755078 0.         0.\n 1.         0.         0.14505728 1.         0.         0.\n 0.         0.99723524 0.         0.         1.         0.\n 0.3112843  1.         0.         0.         0.         0.06777754\n 1.         0.         0.         0.         0.06066425 0.\n 0.        ]\nEpisode 2\tAverage Score: -1.50[1.         0.         0.         0.         0.10237111 0.\n 0.         1.         0.         0.58186358 0.         0.\n 0.         1.         0.         0.         0.         1.\n 0.         0.0531332  0.         0.         1.         0.\n 0.30081788 0.         0.         1.         0.         0.1036596\n 1.         0.         0.         0.         0.39756697 0.\n 0.        ]\nEpisode 3\tAverage Score: -1.00[1.         0.         0.         0.         0.75842005 0.\n 1.         0.         0.         0.13733537 0.         1.\n 0.         0.         0.20077091 0.         1.         0.\n 0.         0.30536556 0.         1.         0.         0.\n 0.14239426 0.         1.         0.         0.         0.16846678\n 0.         1.         0.         0.         0.12905306 0.\n 0.        ]\nEpisode 4\tAverage Score: -0.75[1.         0.         0.         0.         0.38300461 1.\n 0.         0.         0.         0.36012745 0.         0.\n 1.         0.         0.47796494 0.         1.         0.\n 0.         0.69360089 0.         0.         1.         0.\n 0.14582673 1.         0.         0.         0.         0.10273688\n 1.         0.         0.         0.         0.82182282 0.\n 0.        ]\nEpisode 5\tAverage Score: -0.40[0.         0.         1.         0.         0.34391579 1.\n 0.         0.         0.         0.16247983 1.         0.\n 0.         0.         0.19087675 0.         1.         0.\n 0.         0.51609731 0.         0.         1.         0.\n 0.0939495  1.         0.         0.         0.         0.3112841\n 0.         0.         1.         0.         0.09754674 0.\n 0.        ]\nEpisode 6\tAverage Score: -0.33[1.         0.         0.         0.         0.29017946 0.\n 0.         1.         0.         0.26403806 0.         0.\n 1.         0.         0.16279596 0.         0.         0.\n 1.         0.         0.         0.         1.         0.\n 0.20017876 1.         0.         0.         0.         0.29273593\n 1.         0.         0.         0.         0.06369047 0.\n 0.        ]\nEpisode 7\tAverage Score: -0.29[1.         0.         0.         0.         0.43874934 0.\n 0.         1.         0.         0.1915437  0.         1.\n 0.         0.         0.20546694 1.         0.         0.\n 0.         0.10431108 0.         1.         0.         0.\n 0.30144912 1.         0.         0.         0.         0.10179517\n 1.         0.         0.         0.         0.33883381 0.\n 0.        ]\nEpisode 8\tAverage Score: -0.12[0.         0.         1.         0.         0.62321103 0.\n 0.         1.         0.         0.01542017 1.         0.\n 0.         0.         0.28929013 1.         0.         0.\n 0.         0.25879666 0.         0.         1.         0.\n 0.02893675 0.         0.         1.         0.         0.02006932\n 0.         0.         1.         0.         0.01790045 0.\n 0.        ]\nEpisode 9\tAverage Score: -0.11[0.         1.         0.         0.         0.47304425 1.\n 0.         0.         0.         0.04491106 1.         0.\n 0.         0.         0.48696652 1.         0.         0.\n 0.         0.16745478 1.         0.         0.         0.\n 0.57104766 0.         0.         1.         0.         0.19888549\n 1.         0.         0.         0.         0.05450669 0.\n 0.        ]\nEpisode 10\tAverage Score: -0.20[0.         1.         0.         0.         0.65494239 1.\n 0.         0.         0.         0.07438105 1.         0.\n 0.         0.         0.34720075 0.         0.         1.\n 0.         0.61102563 0.         0.         1.         0.\n 0.38568106 1.         0.         0.         0.         0.07115317\n 1.         0.         0.         0.         0.51482248 0.\n 0.        ]\nEpisode 11\tAverage Score: -0.27[1.         0.         0.         0.         0.05799365 0.\n 0.         0.         1.         0.         1.         0.\n 0.         0.         0.09371185 0.         0.         1.\n 0.         0.118046   1.         0.         0.         0.\n 0.08112162 0.         0.         1.         0.         0.33611029\n 0.         0.         1.         0.         0.85831559 0.\n 0.        ]\nEpisode 12\tAverage Score: -0.42[0.         0.         1.         0.         0.22980218 1.\n 0.         0.         0.         0.07309776 0.         0.\n 1.         0.         0.2148958  0.         0.         1.\n 0.         0.25269711 0.         0.         1.         0.\n 0.21950245 0.         0.         1.         0.         0.32944116\n 1.         0.         0.         0.         0.06892619 0.\n 0.        ]\nEpisode 13\tAverage Score: -0.46[1.         0.         0.         0.         0.64672095 0.\n 0.         1.         0.         0.04198745 1.         0.\n 0.         0.         0.01421087 0.         0.         1.\n 0.         0.38464874 0.         1.         0.         0.\n 0.25749499 0.         0.         1.         0.         0.08564568\n 0.         0.         1.         0.         0.05498242 0.\n 0.        ]\nEpisode 14\tAverage Score: -0.43[0.         0.         1.         0.         0.15615696 0.\n 1.         0.         0.         0.35251296 1.         0.\n 0.         0.         0.47339335 0.         1.         0.\n 0.         0.43709841 0.         0.         1.         0.\n 0.12509225 0.         1.         0.         0.         0.35688102\n 0.         1.         0.         0.         0.39536023 0.\n 0.        ]\nEpisode 15\tAverage Score: -0.47[1.         0.         0.         0.         0.66784203 0.\n 0.         1.         0.         0.32648042 0.         0.\n 1.         0.         0.00598868 0.         1.         0.\n 0.         0.96145976 0.         0.         1.         0.\n 0.7782501  0.         0.         1.         0.         0.15431508\n 1.         0.         0.         0.         0.19306774 0.\n 0.        ]\nEpisode 16\tAverage Score: -0.44[1.         0.         0.         0.         0.08010221 1.\n 0.         0.         0.         0.02610428 0.         0.\n 1.         0.         0.35270935 0.         0.         1.\n 0.         0.15345822 1.         0.         0.         0.\n 0.11665842 1.         0.         0.         0.         0.04053417\n 1.         0.         0.         0.         0.0364669  0.\n 0.        ]\nEpisode 17\tAverage Score: -0.47[0.         0.         1.         0.         0.22270264 1.\n 0.         0.         0.         0.77308607 0.         0.\n 1.         0.         0.18666296 1.         0.         0.\n 0.         0.14669752 0.         0.         1.         0.\n 0.48474964 0.         0.         1.         0.         0.50569046\n 1.         0.         0.         0.         0.49673459 0.\n 0.        ]\nEpisode 18\tAverage Score: -0.39[1.         0.         0.         0.         0.0202433  1.\n 0.         0.         0.         0.01772201 1.         0.\n 0.         0.         0.55254692 1.         0.         0.\n 0.         0.01598728 1.         0.         0.         0.\n 0.27539951 1.         0.         0.         0.         0.01563001\n 1.         0.         0.         0.         0.02377071 0.\n 0.        ]\nEpisode 19\tAverage Score: -0.32[0.         1.         0.         0.         0.15069482 0.\n 1.         0.         0.         0.13329738 1.         0.\n 0.         0.         0.11389949 0.         1.         0.\n 0.         0.11951119 1.         0.         0.         0.\n 0.13126148 0.         1.         0.         0.         0.11721975\n 0.         1.         0.         0.         0.17959106 0.\n 0.        ]\nEpisode 20\tAverage Score: -0.25[1.         0.         0.         0.         0.07844947 1.\n 0.         0.         0.         0.11881883 0.         0.\n 1.         0.         0.2502777  1.         0.         0.\n 0.         0.62987679 0.         0.         1.         0.\n 0.18575974 0.         0.         1.         0.         0.45538217\n 0.         0.         1.         0.         0.25630394 0.\n 0.        ]\nEpisode 21\tAverage Score: -0.19[0.         0.         1.         0.         0.0856279  1.\n 0.         0.         0.         0.10202905 1.         0.\n 0.         0.         0.55697423 1.         0.         0.\n 0.         0.08871645 1.         0.         0.         0.\n 0.55824924 0.         0.         1.         0.         0.76948375\n 1.         0.         0.         0.         0.31681222 0.\n 0.        ]\nEpisode 22\tAverage Score: -0.18[0.         0.         1.         0.         0.18265575 1.\n 0.         0.         0.         0.62309283 1.         0.\n 0.         0.         0.03916563 0.         1.         0.\n 0.         0.74242163 1.         0.         0.         0.\n 0.04417396 0.         0.         1.         0.         0.20568566\n 0.         0.         1.         0.         0.07913695 0.\n 0.        ]\nEpisode 23\tAverage Score: -0.26[0.         0.         0.         1.         0.         0.\n 0.         1.         0.         0.03095673 0.         1.\n 0.         0.         0.70769656 1.         0.         0.\n 0.         0.03844023 1.         0.         0.         0.\n 0.0369142  0.         0.         1.         0.         0.02868923\n 1.         0.         0.         0.         0.02619653 0.\n 0.        ]\nEpisode 24\tAverage Score: -0.21[1.         0.         0.         0.         0.15695375 1.\n 0.         0.         0.         0.01561618 0.         1.\n 0.         0.         0.29568931 1.         0.         0.\n 0.         0.40440795 0.         0.         1.         0.\n 0.01090292 1.         0.         0.         0.         0.01576475\n 0.         0.         1.         0.         0.01112357 0.\n 0.        ]\nEpisode 25\tAverage Score: -0.16[1.         0.         0.         0.         0.18389653 1.\n 0.         0.         0.         0.3604309  1.         0.\n 0.         0.         0.46780324 0.         0.         0.\n 1.         0.         1.         0.         0.         0.\n 0.12430582 0.         0.         0.         1.         0.\n 0.         0.         1.         0.         0.1567677  0.\n 0.        ]\nEpisode 26\tAverage Score: -0.12[0.         0.         1.         0.         0.14318104 1.\n 0.         0.         0.         0.47238213 0.         0.\n 1.         0.         0.2791948  0.         0.         0.\n 1.         0.         1.         0.         0.         0.\n 0.50726438 0.         0.         1.         0.         0.38638955\n 0.         0.         1.         0.         0.47037441 0.\n 0.        ]\nEpisode 27\tAverage Score: -0.07[1.         0.         0.         0.         0.05722951 0.\n 0.         1.         0.         0.38911781 0.         0.\n 1.         0.         0.1810963  1.         0.         0.\n 0.         0.02929589 1.         0.         0.         0.\n 0.37345535 1.         0.         0.         0.         0.03915619\n 1.         0.         0.         0.         0.1629591  0.\n 0.        ]\nEpisode 28\tAverage Score: -0.11[0.         1.         0.         0.         0.56196886 0.\n 1.         0.         0.         0.36093467 0.         0.\n 1.         0.         0.00915571 0.         1.         0.\n 0.         0.59390688 0.         0.         1.         0.\n 0.01069216 0.         0.         1.         0.         0.21449363\n 0.         0.         1.         0.         0.01658207 0.\n 0.        ]\n"
    },
    {
     "output_type": "error",
     "ename": "KeyboardInterrupt",
     "evalue": "",
     "traceback": [
      "\u001b[1;31m---------------------------------------------------------------------------\u001b[0m",
      "\u001b[1;31mKeyboardInterrupt\u001b[0m                         Traceback (most recent call last)",
      "\u001b[1;32m<ipython-input-10-7f9f78971887>\u001b[0m in \u001b[0;36m<module>\u001b[1;34m\u001b[0m\n\u001b[0;32m     53\u001b[0m     \u001b[1;32mreturn\u001b[0m \u001b[0mscores\u001b[0m\u001b[1;33m\u001b[0m\u001b[1;33m\u001b[0m\u001b[0m\n\u001b[0;32m     54\u001b[0m \u001b[1;33m\u001b[0m\u001b[0m\n\u001b[1;32m---> 55\u001b[1;33m \u001b[0mscores\u001b[0m \u001b[1;33m=\u001b[0m \u001b[0mdqn\u001b[0m\u001b[1;33m(\u001b[0m\u001b[1;33m)\u001b[0m\u001b[1;33m\u001b[0m\u001b[1;33m\u001b[0m\u001b[0m\n\u001b[0m\u001b[0;32m     56\u001b[0m \u001b[1;33m\u001b[0m\u001b[0m\n\u001b[0;32m     57\u001b[0m \u001b[1;31m# plot the scores\u001b[0m\u001b[1;33m\u001b[0m\u001b[1;33m\u001b[0m\u001b[1;33m\u001b[0m\u001b[0m\n",
      "\u001b[1;32m<ipython-input-10-7f9f78971887>\u001b[0m in \u001b[0;36mdqn\u001b[1;34m(n_episodes, max_t, eps_start, eps_end, eps_decay)\u001b[0m\n\u001b[0;32m     35\u001b[0m             \u001b[0mdone\u001b[0m \u001b[1;33m=\u001b[0m \u001b[0menv_info\u001b[0m\u001b[1;33m.\u001b[0m\u001b[0mlocal_done\u001b[0m\u001b[1;33m[\u001b[0m\u001b[1;36m0\u001b[0m\u001b[1;33m]\u001b[0m                  \u001b[1;31m# see if episode has finished\u001b[0m\u001b[1;33m\u001b[0m\u001b[1;33m\u001b[0m\u001b[0m\n\u001b[0;32m     36\u001b[0m \u001b[1;33m\u001b[0m\u001b[0m\n\u001b[1;32m---> 37\u001b[1;33m             \u001b[0magent\u001b[0m\u001b[1;33m.\u001b[0m\u001b[0mstep\u001b[0m\u001b[1;33m(\u001b[0m\u001b[0mstate\u001b[0m\u001b[1;33m,\u001b[0m \u001b[0maction\u001b[0m\u001b[1;33m,\u001b[0m \u001b[0mreward\u001b[0m\u001b[1;33m,\u001b[0m \u001b[0mnext_state\u001b[0m\u001b[1;33m,\u001b[0m \u001b[0mdone\u001b[0m\u001b[1;33m)\u001b[0m\u001b[1;33m\u001b[0m\u001b[1;33m\u001b[0m\u001b[0m\n\u001b[0m\u001b[0;32m     38\u001b[0m             \u001b[0mstate\u001b[0m \u001b[1;33m=\u001b[0m \u001b[0mnext_state\u001b[0m\u001b[1;33m\u001b[0m\u001b[1;33m\u001b[0m\u001b[0m\n\u001b[0;32m     39\u001b[0m             \u001b[0mscore\u001b[0m \u001b[1;33m+=\u001b[0m \u001b[0mreward\u001b[0m\u001b[1;33m\u001b[0m\u001b[1;33m\u001b[0m\u001b[0m\n",
      "\u001b[1;32mc:\\Users\\helsinkipirate\\deep-reinforcement-learning\\p1_navigation\\dqn_agent.py\u001b[0m in \u001b[0;36mstep\u001b[1;34m(self, state, action, reward, next_state, done)\u001b[0m\n\u001b[0;32m     55\u001b[0m             \u001b[1;32mif\u001b[0m \u001b[0mlen\u001b[0m\u001b[1;33m(\u001b[0m\u001b[0mself\u001b[0m\u001b[1;33m.\u001b[0m\u001b[0mmemory\u001b[0m\u001b[1;33m)\u001b[0m \u001b[1;33m>\u001b[0m \u001b[0mBATCH_SIZE\u001b[0m\u001b[1;33m:\u001b[0m\u001b[1;33m\u001b[0m\u001b[1;33m\u001b[0m\u001b[0m\n\u001b[0;32m     56\u001b[0m                 \u001b[0mexperiences\u001b[0m \u001b[1;33m=\u001b[0m \u001b[0mself\u001b[0m\u001b[1;33m.\u001b[0m\u001b[0mmemory\u001b[0m\u001b[1;33m.\u001b[0m\u001b[0msample\u001b[0m\u001b[1;33m(\u001b[0m\u001b[1;33m)\u001b[0m\u001b[1;33m\u001b[0m\u001b[1;33m\u001b[0m\u001b[0m\n\u001b[1;32m---> 57\u001b[1;33m                 \u001b[0mself\u001b[0m\u001b[1;33m.\u001b[0m\u001b[0mlearn\u001b[0m\u001b[1;33m(\u001b[0m\u001b[0mexperiences\u001b[0m\u001b[1;33m,\u001b[0m \u001b[0mGAMMA\u001b[0m\u001b[1;33m)\u001b[0m\u001b[1;33m\u001b[0m\u001b[1;33m\u001b[0m\u001b[0m\n\u001b[0m\u001b[0;32m     58\u001b[0m \u001b[1;33m\u001b[0m\u001b[0m\n\u001b[0;32m     59\u001b[0m     \u001b[1;32mdef\u001b[0m \u001b[0mact\u001b[0m\u001b[1;33m(\u001b[0m\u001b[0mself\u001b[0m\u001b[1;33m,\u001b[0m \u001b[0mstate\u001b[0m\u001b[1;33m,\u001b[0m \u001b[0meps\u001b[0m\u001b[1;33m=\u001b[0m\u001b[1;36m0.\u001b[0m\u001b[1;33m)\u001b[0m\u001b[1;33m:\u001b[0m\u001b[1;33m\u001b[0m\u001b[1;33m\u001b[0m\u001b[0m\n",
      "\u001b[1;32mc:\\Users\\helsinkipirate\\deep-reinforcement-learning\\p1_navigation\\dqn_agent.py\u001b[0m in \u001b[0;36mlearn\u001b[1;34m(self, experiences, gamma)\u001b[0m\n\u001b[0;32m     99\u001b[0m         \u001b[1;31m# Minimize the loss\u001b[0m\u001b[1;33m\u001b[0m\u001b[1;33m\u001b[0m\u001b[1;33m\u001b[0m\u001b[0m\n\u001b[0;32m    100\u001b[0m         \u001b[0mself\u001b[0m\u001b[1;33m.\u001b[0m\u001b[0moptimizer\u001b[0m\u001b[1;33m.\u001b[0m\u001b[0mzero_grad\u001b[0m\u001b[1;33m(\u001b[0m\u001b[1;33m)\u001b[0m\u001b[1;33m\u001b[0m\u001b[1;33m\u001b[0m\u001b[0m\n\u001b[1;32m--> 101\u001b[1;33m         \u001b[0mloss\u001b[0m\u001b[1;33m.\u001b[0m\u001b[0mbackward\u001b[0m\u001b[1;33m(\u001b[0m\u001b[1;33m)\u001b[0m\u001b[1;33m\u001b[0m\u001b[1;33m\u001b[0m\u001b[0m\n\u001b[0m\u001b[0;32m    102\u001b[0m         \u001b[0mself\u001b[0m\u001b[1;33m.\u001b[0m\u001b[0moptimizer\u001b[0m\u001b[1;33m.\u001b[0m\u001b[0mstep\u001b[0m\u001b[1;33m(\u001b[0m\u001b[1;33m)\u001b[0m\u001b[1;33m\u001b[0m\u001b[1;33m\u001b[0m\u001b[0m\n\u001b[0;32m    103\u001b[0m \u001b[1;33m\u001b[0m\u001b[0m\n",
      "\u001b[1;32m~\\AppData\\Local\\conda\\conda\\envs\\drlnd\\lib\\site-packages\\torch\\tensor.py\u001b[0m in \u001b[0;36mbackward\u001b[1;34m(self, gradient, retain_graph, create_graph)\u001b[0m\n\u001b[0;32m     91\u001b[0m                 \u001b[0mproducts\u001b[0m\u001b[1;33m.\u001b[0m \u001b[0mDefaults\u001b[0m \u001b[0mto\u001b[0m\u001b[0;31m \u001b[0m\u001b[0;31m`\u001b[0m\u001b[0;31m`\u001b[0m\u001b[1;32mFalse\u001b[0m\u001b[0;31m`\u001b[0m\u001b[0;31m`\u001b[0m\u001b[1;33m.\u001b[0m\u001b[1;33m\u001b[0m\u001b[1;33m\u001b[0m\u001b[0m\n\u001b[0;32m     92\u001b[0m         \"\"\"\n\u001b[1;32m---> 93\u001b[1;33m         \u001b[0mtorch\u001b[0m\u001b[1;33m.\u001b[0m\u001b[0mautograd\u001b[0m\u001b[1;33m.\u001b[0m\u001b[0mbackward\u001b[0m\u001b[1;33m(\u001b[0m\u001b[0mself\u001b[0m\u001b[1;33m,\u001b[0m \u001b[0mgradient\u001b[0m\u001b[1;33m,\u001b[0m \u001b[0mretain_graph\u001b[0m\u001b[1;33m,\u001b[0m \u001b[0mcreate_graph\u001b[0m\u001b[1;33m)\u001b[0m\u001b[1;33m\u001b[0m\u001b[1;33m\u001b[0m\u001b[0m\n\u001b[0m\u001b[0;32m     94\u001b[0m \u001b[1;33m\u001b[0m\u001b[0m\n\u001b[0;32m     95\u001b[0m     \u001b[1;32mdef\u001b[0m \u001b[0mregister_hook\u001b[0m\u001b[1;33m(\u001b[0m\u001b[0mself\u001b[0m\u001b[1;33m,\u001b[0m \u001b[0mhook\u001b[0m\u001b[1;33m)\u001b[0m\u001b[1;33m:\u001b[0m\u001b[1;33m\u001b[0m\u001b[1;33m\u001b[0m\u001b[0m\n",
      "\u001b[1;32m~\\AppData\\Local\\conda\\conda\\envs\\drlnd\\lib\\site-packages\\torch\\autograd\\__init__.py\u001b[0m in \u001b[0;36mbackward\u001b[1;34m(tensors, grad_tensors, retain_graph, create_graph, grad_variables)\u001b[0m\n\u001b[0;32m     81\u001b[0m         \u001b[0mgrad_tensors\u001b[0m \u001b[1;33m=\u001b[0m \u001b[0mlist\u001b[0m\u001b[1;33m(\u001b[0m\u001b[0mgrad_tensors\u001b[0m\u001b[1;33m)\u001b[0m\u001b[1;33m\u001b[0m\u001b[1;33m\u001b[0m\u001b[0m\n\u001b[0;32m     82\u001b[0m \u001b[1;33m\u001b[0m\u001b[0m\n\u001b[1;32m---> 83\u001b[1;33m     \u001b[0mgrad_tensors\u001b[0m \u001b[1;33m=\u001b[0m \u001b[0m_make_grads\u001b[0m\u001b[1;33m(\u001b[0m\u001b[0mtensors\u001b[0m\u001b[1;33m,\u001b[0m \u001b[0mgrad_tensors\u001b[0m\u001b[1;33m)\u001b[0m\u001b[1;33m\u001b[0m\u001b[1;33m\u001b[0m\u001b[0m\n\u001b[0m\u001b[0;32m     84\u001b[0m     \u001b[1;32mif\u001b[0m \u001b[0mretain_graph\u001b[0m \u001b[1;32mis\u001b[0m \u001b[1;32mNone\u001b[0m\u001b[1;33m:\u001b[0m\u001b[1;33m\u001b[0m\u001b[1;33m\u001b[0m\u001b[0m\n\u001b[0;32m     85\u001b[0m         \u001b[0mretain_graph\u001b[0m \u001b[1;33m=\u001b[0m \u001b[0mcreate_graph\u001b[0m\u001b[1;33m\u001b[0m\u001b[1;33m\u001b[0m\u001b[0m\n",
      "\u001b[1;32m~\\AppData\\Local\\conda\\conda\\envs\\drlnd\\lib\\site-packages\\torch\\autograd\\__init__.py\u001b[0m in \u001b[0;36m_make_grads\u001b[1;34m(outputs, grads)\u001b[0m\n\u001b[0;32m     26\u001b[0m                 \u001b[1;32mif\u001b[0m \u001b[0mout\u001b[0m\u001b[1;33m.\u001b[0m\u001b[0mnumel\u001b[0m\u001b[1;33m(\u001b[0m\u001b[1;33m)\u001b[0m \u001b[1;33m!=\u001b[0m \u001b[1;36m1\u001b[0m\u001b[1;33m:\u001b[0m\u001b[1;33m\u001b[0m\u001b[1;33m\u001b[0m\u001b[0m\n\u001b[0;32m     27\u001b[0m                     \u001b[1;32mraise\u001b[0m \u001b[0mRuntimeError\u001b[0m\u001b[1;33m(\u001b[0m\u001b[1;34m\"grad can be implicitly created only for scalar outputs\"\u001b[0m\u001b[1;33m)\u001b[0m\u001b[1;33m\u001b[0m\u001b[1;33m\u001b[0m\u001b[0m\n\u001b[1;32m---> 28\u001b[1;33m                 \u001b[0mnew_grads\u001b[0m\u001b[1;33m.\u001b[0m\u001b[0mappend\u001b[0m\u001b[1;33m(\u001b[0m\u001b[0mtorch\u001b[0m\u001b[1;33m.\u001b[0m\u001b[0mones_like\u001b[0m\u001b[1;33m(\u001b[0m\u001b[0mout\u001b[0m\u001b[1;33m)\u001b[0m\u001b[1;33m)\u001b[0m\u001b[1;33m\u001b[0m\u001b[1;33m\u001b[0m\u001b[0m\n\u001b[0m\u001b[0;32m     29\u001b[0m             \u001b[1;32melse\u001b[0m\u001b[1;33m:\u001b[0m\u001b[1;33m\u001b[0m\u001b[1;33m\u001b[0m\u001b[0m\n\u001b[0;32m     30\u001b[0m                 \u001b[0mnew_grads\u001b[0m\u001b[1;33m.\u001b[0m\u001b[0mappend\u001b[0m\u001b[1;33m(\u001b[0m\u001b[1;32mNone\u001b[0m\u001b[1;33m)\u001b[0m\u001b[1;33m\u001b[0m\u001b[1;33m\u001b[0m\u001b[0m\n",
      "\u001b[1;31mKeyboardInterrupt\u001b[0m: "
     ]
    }
   ],
   "source": [
    "# Copy and modify code from dqn exercise\n",
    "from dqn_agent import Agent\n",
    "\n",
    "agent = Agent(state_size=state_size, action_size=action_size, seed=0)\n",
    "\n",
    "def dqn(n_episodes=4000, max_t=2000, eps_start=1.0, eps_end=0.01, eps_decay=0.995):\n",
    "    \n",
    "    \"\"\"Deep Q-Learning.    \n",
    "    Params\n",
    "    ======\n",
    "        n_episodes (int): maximum number of training episodes\n",
    "        max_t (int): maximum number of timesteps per episode\n",
    "        eps_start (float): starting value of epsilon, for epsilon-greedy action selection\n",
    "        eps_end (float): minimum value of epsilon, try 0.1,0.01 and other parameters\n",
    "        eps_decay (float): multiplicative factor (per episode) for decreasing epsilon\n",
    "    \"\"\"\n",
    "    scores = []                        # list containing scores from each episode\n",
    "    scores_window = deque(maxlen=100)  # last 100 scores\n",
    "    eps = eps_start                    # initialize epsilon\n",
    "    for i_episode in range(1, n_episodes+1):\n",
    "        #reset environment is different from the sample one\n",
    "        env_info = env.reset(train_mode=True)[brain_name]\n",
    "        state = env_info.vector_observations[0]            # get the current state\n",
    "         \n",
    "        score = 0\n",
    "        for t in range(max_t):\n",
    "            # First, get an action via Q-network with epsilon-policy\n",
    "            action = int(agent.act(state, eps))   \n",
    "            # The environment cannot get the state, rewards and done at the same time\n",
    "            #next_state, reward, done, _ = env.step(action)\n",
    "            env_info = env.step(action)[brain_name]        # send the action to the environment\n",
    "            next_state = env_info.vector_observations[0]   # get the next state\n",
    "            reward = env_info.rewards[0]                   # get the reward\n",
    "            done = env_info.local_done[0]                  # see if episode has finished\n",
    "\n",
    "            agent.step(state, action, reward, next_state, done)\n",
    "            state = next_state\n",
    "            score += reward\n",
    "            if done:\n",
    "                break \n",
    "        scores_window.append(score)       # save most recent score\n",
    "        scores.append(score)              # save most recent score\n",
    "        # Update epsilon for greedy policy\n",
    "        eps = max(eps_end, eps_decay*eps) # decrease epsilon\n",
    "        print('\\rEpisode {}\\tAverage Score: {:.2f}'.format(i_episode, np.mean(scores_window)), end=\"\")\n",
    "        if i_episode % 100 == 0:\n",
    "            print('\\rEpisode {}\\tAverage Score: {:.2f}'.format(i_episode, np.mean(scores_window)))\n",
    "        if np.mean(scores_window)>=200.0:\n",
    "            print('\\nEnvironment solved in {:d} episodes!\\tAverage Score: {:.2f}'.format(i_episode-100, np.mean(scores_window)))\n",
    "            torch.save(agent.qnetwork_local.state_dict(), 'banana_replay.pth')\n",
    "            break\n",
    "    return scores\n",
    "\n",
    "scores = dqn()\n",
    "\n",
    "# plot the scores\n",
    "fig = plt.figure()\n",
    "ax = fig.add_subplot(111)\n",
    "plt.plot(np.arange(len(scores)), scores)\n",
    "plt.ylabel('Score')\n",
    "plt.xlabel('Episode #')\n",
    "plt.show()"
   ]
  },
  {
   "cell_type": "code",
   "execution_count": null,
   "metadata": {},
   "outputs": [],
   "source": [
    "# load the weights from file\n",
    "agent.qnetwork_local.load_state_dict(torch.load('banana_replay.pth'))\n",
    "scores=[]\n",
    "for i in range(3):\n",
    "    #state = env.reset()\n",
    "    env_info=env.reset(train_mode=False)[brain_name]\n",
    "    state=env_info.vector_observations[0]\n",
    "    score=0\n",
    "    #for j in range(200):\n",
    "    while True:\n",
    "        action = int(agent.act(state))\n",
    "        env.render()\n",
    "        #state, reward, done, _ = env.step(action)\n",
    "        env_info=env.step(action)[brain_name]\n",
    "        # Actually it is next state\n",
    "        state=env_info.vector_observations[0]\n",
    "        reward=env_info.rewards[0]\n",
    "        done=env_info.local_done[0]\n",
    "        score+=reward\n",
    "        \n",
    "        if done:\n",
    "            break \n",
    "    scores.append(score)\n",
    "env.close()\n",
    "print(\"Score: {}\".format(np.mean(scores)))"
   ]
  }
 ],
 "metadata": {
  "kernelspec": {
   "display_name": "drlnd",
   "language": "python",
   "name": "drlnd"
  },
  "language_info": {
   "codemirror_mode": {
    "name": "ipython",
    "version": 3
   },
   "file_extension": ".py",
   "mimetype": "text/x-python",
   "name": "python",
   "nbconvert_exporter": "python",
   "pygments_lexer": "ipython3",
   "version": "3.6.4-final"
  }
 },
 "nbformat": 4,
 "nbformat_minor": 2
}